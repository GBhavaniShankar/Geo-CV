{
 "cells": [
  {
   "cell_type": "markdown",
   "id": "98fffef2",
   "metadata": {},
   "source": [
    "## Installation and setup\n"
   ]
  },
  {
   "cell_type": "markdown",
   "id": "791a0b25",
   "metadata": {},
   "source": [
    "!pip3 install opencv-python Pillow"
   ]
  },
  {
   "cell_type": "markdown",
   "id": "533a5c61",
   "metadata": {},
   "source": [
    "## Basic Image Processing"
   ]
  },
  {
   "cell_type": "code",
   "execution_count": 71,
   "id": "ecb1fe69",
   "metadata": {},
   "outputs": [],
   "source": [
    "import cv2\n",
    "import numpy as np\n",
    "import matplotlib.pyplot as plt"
   ]
  },
  {
   "cell_type": "markdown",
   "id": "35520fbd",
   "metadata": {},
   "source": [
    "### Read the two images (image1.jpg and image2.jpg). What are the sizes of the matrices ?"
   ]
  },
  {
   "cell_type": "code",
   "execution_count": 72,
   "id": "1b70c237",
   "metadata": {},
   "outputs": [],
   "source": [
    "im1 = cv2.imread(\"image1.jpg\")\n",
    "im2 = cv2.imread(\"image2.jpg\")"
   ]
  },
  {
   "cell_type": "code",
   "execution_count": 73,
   "id": "ef6203bd",
   "metadata": {},
   "outputs": [],
   "source": [
    "h1, w1, c1 = im1.shape\n",
    "h2, w2, c2 = im2.shape\n"
   ]
  },
  {
   "cell_type": "code",
   "execution_count": 74,
   "id": "f8619cba",
   "metadata": {},
   "outputs": [
    {
     "name": "stdout",
     "output_type": "stream",
     "text": [
      "Image1 dimentions 300 x 300 channels 3\n",
      "Image1 dimentions 300 x 300 channels 3\n"
     ]
    }
   ],
   "source": [
    "print(f\"Image1 dimentions {h1} x {w1} channels {c1}\")\n",
    "print(f\"Image1 dimentions {h2} x {w2} channels {c2}\")"
   ]
  },
  {
   "cell_type": "markdown",
   "id": "34010234",
   "metadata": {},
   "source": [
    "### The original image pixel values are in integer format. Find the minimum and maximum values. Normalize the pixels to a range of 0 to 1 with double precision format."
   ]
  },
  {
   "cell_type": "code",
   "execution_count": 75,
   "id": "c7772fd4",
   "metadata": {},
   "outputs": [],
   "source": [
    "min_im1, max_im1 = int(np.min(im1)), int(np.max(im1))\n",
    "min_im2, max_im2 = int(np.min(im2)), int(np.max(im2))"
   ]
  },
  {
   "cell_type": "code",
   "execution_count": 76,
   "id": "aa632380",
   "metadata": {},
   "outputs": [
    {
     "name": "stdout",
     "output_type": "stream",
     "text": [
      "Image1 -> minimum value:  0, maximum value: 255\n",
      "Image2 -> minimum value: 16, maximum value: 236\n"
     ]
    }
   ],
   "source": [
    "print(f\"Image1 -> minimum value:{min_im1:3}, maximum value: {max_im1:3}\")\n",
    "print(f\"Image2 -> minimum value:{min_im2:3}, maximum value: {max_im2:3}\")"
   ]
  },
  {
   "cell_type": "code",
   "execution_count": 77,
   "id": "e2e3e4c7",
   "metadata": {},
   "outputs": [],
   "source": [
    "nr_im1 = im1.astype(np.float64) / 255\n",
    "\n",
    "cv2.imshow(\"Normalized image 1\", nr_im1)\n",
    "cv2.waitKey(0)\n",
    "cv2.destroyAllWindows()"
   ]
  },
  {
   "cell_type": "code",
   "execution_count": 78,
   "id": "79ce8089",
   "metadata": {},
   "outputs": [],
   "source": [
    "nr_im2 = im2.astype(np.float64) / 255\n",
    "\n",
    "cv2.imshow(\"Normalized image 2\", nr_im2)\n",
    "cv2.waitKey(0)\n",
    "cv2.destroyAllWindows()"
   ]
  },
  {
   "cell_type": "markdown",
   "id": "745c56bb",
   "metadata": {},
   "source": [
    "### Add the two images together and renormalize the values."
   ]
  },
  {
   "cell_type": "code",
   "execution_count": 79,
   "id": "5a2ac0da",
   "metadata": {},
   "outputs": [],
   "source": [
    "a_img = nr_im1 + nr_im2\n",
    "nr_final_im = a_img.astype(np.float64) / 2"
   ]
  },
  {
   "cell_type": "code",
   "execution_count": 80,
   "id": "75e60203",
   "metadata": {},
   "outputs": [],
   "source": [
    "cv2.imshow(\"Normalized Final Image\", nr_final_im)\n",
    "cv2.waitKey(0)\n",
    "cv2.destroyAllWindows()"
   ]
  },
  {
   "cell_type": "markdown",
   "id": "a32e2895",
   "metadata": {},
   "source": [
    "### Rescale the values to a range of 0 to 255 and save the final image."
   ]
  },
  {
   "cell_type": "code",
   "execution_count": 81,
   "id": "80fe6431",
   "metadata": {},
   "outputs": [],
   "source": [
    "final_im = nr_final_im * 255\n",
    "final_im = final_im.astype(np.uint8)\n",
    "\n",
    "cv2.imshow(\"Final Image\", final_im)\n",
    "cv2.waitKey(0)\n",
    "cv2.destroyAllWindows()"
   ]
  },
  {
   "cell_type": "code",
   "execution_count": 84,
   "id": "0d0abfc8",
   "metadata": {},
   "outputs": [
    {
     "data": {
      "text/plain": [
       "True"
      ]
     },
     "execution_count": 84,
     "metadata": {},
     "output_type": "execute_result"
    }
   ],
   "source": [
    "cv2.imwrite(\"final.jpg\", final_im)"
   ]
  },
  {
   "cell_type": "markdown",
   "id": "d77f6ea2",
   "metadata": {},
   "source": [
    "### Display only one channel"
   ]
  },
  {
   "cell_type": "code",
   "execution_count": null,
   "id": "4dec473c",
   "metadata": {},
   "outputs": [],
   "source": [
    "def one_channel(image, idx):\n",
    "    dummy = image.copy()\n",
    "    channel = None\n",
    "    if idx == 0:\n",
    "        channel = \"B\"\n",
    "    elif idx == 1:\n",
    "        channel = \"G\"\n",
    "    elif idx == 2:\n",
    "        channel = \"R\"\n",
    "        \n",
    "    _, _, c = image.shape\n",
    "    for c in range(3):\n",
    "        if c != idx:\n",
    "            dummy[:, :, c] = 0\n",
    "\n",
    "    cv2.imshow(f\"Channel {channel}\", dummy)\n",
    "    cv2.waitKey(0)\n",
    "    cv2.destroyAllWindows()\n"
   ]
  },
  {
   "cell_type": "code",
   "execution_count": 86,
   "id": "9cfdc75d",
   "metadata": {},
   "outputs": [],
   "source": [
    "one_channel(im1, 1)"
   ]
  }
 ],
 "metadata": {
  "kernelspec": {
   "display_name": "venv",
   "language": "python",
   "name": "python3"
  },
  "language_info": {
   "codemirror_mode": {
    "name": "ipython",
    "version": 3
   },
   "file_extension": ".py",
   "mimetype": "text/x-python",
   "name": "python",
   "nbconvert_exporter": "python",
   "pygments_lexer": "ipython3",
   "version": "3.10.12"
  }
 },
 "nbformat": 4,
 "nbformat_minor": 5
}
